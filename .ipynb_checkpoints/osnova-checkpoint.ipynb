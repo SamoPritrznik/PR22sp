{
 "cells": [
  {
   "cell_type": "markdown",
   "metadata": {
    "lang": "sl"
   },
   "source": [
    "## Backend "
   ]
  },
  {
   "cell_type": "markdown",
   "metadata": {
    "lang": "sl"
   },
   "source": [
    "V temu delu bom "
   ]
  },
  {
   "cell_type": "markdown",
   "metadata": {
    "lang": "sl"
   },
   "source": [
    "### Podatki\n",
    "\n",
    "Opis podatkovne zbirke MovieLens ostaja enak prvi nalogi."
   ]
  },
  {
   "cell_type": "code",
   "execution_count": 1,
   "metadata": {},
   "outputs": [],
   "source": [
    "import numpy as np\n",
    "import random\n",
    "\n",
    "from csv import DictReader\n",
    "from sklearn.metrics import mean_absolute_error\n",
    "from sklearn.linear_model import LinearRegression, Lasso, Ridge"
   ]
  },
  {
   "cell_type": "code",
   "execution_count": 2,
   "metadata": {},
   "outputs": [],
   "source": [
    "movies = []\n",
    "ratings = []\n",
    "\n",
    "reader = DictReader(open('podatki/ml-latest-small/ratings.csv', 'rt', encoding='utf-8'))\n",
    "\n",
    "for row in reader:\n",
    "    ratings.append((int(row[\"userId\"]), int(row[\"movieId\"]), float(row[\"rating\"]), int(row[\"timestamp\"])))\n",
    "ratings = np.array(ratings)\n",
    "\n",
    "reader = DictReader(open('podatki/ml-latest-small/movies.csv', 'rt', encoding='utf-8'))\n",
    "\n",
    "for row in reader:\n",
    "    movies.append((int(row[\"movieId\"]), row[\"title\"], row[\"genres\"]))\n",
    "movies = np.array(movies)"
   ]
  },
  {
   "cell_type": "markdown",
   "metadata": {
    "lang": "sl"
   },
   "source": [
    "### Predpriprava podatkov\n",
    "\n",
    "Za potrebe te naloge bomo podatke pripravili na naslednji način:\n",
    "1. Izberi $m$ filmov z vsaj 100 ogledi.\n",
    "2. Izberi $n$ uporabnikov, ki si je ogledalo vsaj 100 filmov.\n",
    "3. Pripravi matriko $X$ velikosti $m \\times n$, kjer vrstice predstavljajo filme, stolpci pa uporabnike. Neznane vrednosti zamenjaj z $0$.\n",
    "\n",
    "Za vsakega od izbranih $n$ uporabnikov bo zgrajen regresijski model, \n",
    "katerega cilj bo napoved ocen za filme. "
   ]
  },
  {
   "cell_type": "markdown",
   "metadata": {},
   "source": [
    "<table>\n",
    "    <tr style=\"background-color: white;\">\n",
    "        <td style=\"border-right: 1px solid #000;\"></td>\n",
    "        <td></td>\n",
    "        <td style=\"border-right: 1px solid #000; border-left: 1px solid #000;\">$y^{(0)}$</td>\n",
    "        <td colspan=3 style=\"text-align:center;\">$X^{(0)}$</td>\n",
    "    </tr>\n",
    "    <tr style=\"border-bottom: 1px solid #000;\">\n",
    "        <td style=\"border-right: 1px solid #000;\"></td>\n",
    "        <td>Film/uporabnik</td>\n",
    "        <td style=\"border-right: 1px solid #000; border-left: 1px solid #000;\">$u_0$</td>\n",
    "        <td>$u_1$</td>\n",
    "        <td>$u_2$</td>\n",
    "        <td>$\\cdots$</td>\n",
    "    </tr>\n",
    "    <tr>\n",
    "        <td style=\"border-right: 1px solid #000;\">${f_1}$</td>\n",
    "        <td>Twelve Monkeys (a.k.a. 12 Monkeys) (1995)</td>\n",
    "        <td style=\"border-right: 1px solid #000; border-left: 1px solid #000;\">0</td>\n",
    "        <td>0</td>\n",
    "        <td>2.5</td>\n",
    "        <td>$\\cdots$</td>\n",
    "    </tr>\n",
    "    <tr>\n",
    "        <td style=\"border-right: 1px solid #000;\">${f_2}$</td>\n",
    "        <td>Dances with  Wolves (1990) </td>\n",
    "        <td style=\"border-right: 1px solid #000; border-left: 1px solid #000;\">4</td>\n",
    "        <td>0</td>\n",
    "        <td>0</td>\n",
    "        <td>$\\cdots$</td>\n",
    "    </tr>\n",
    "    <tr>\n",
    "        <td style=\"border-right: 1px solid #000;\">${f_3}$</td>\n",
    "        <td>Apollo 13 (1995)</td>\n",
    "        <td style=\"border-right: 1px solid #000; border-left: 1px solid #000;\">0</td>\n",
    "        <td>2</td>\n",
    "        <td>0</td>\n",
    "        <td>$\\cdots$</td>\n",
    "    </tr>\n",
    "    <tr>\n",
    "        <td style=\"border-right: 1px solid #000;\">${f_4}$</td>\n",
    "        <td>Sixth Sense, The (1999)</td><td style=\"border-right: 1px solid #000; border-left: 1px solid #000;\">3</td>\n",
    "        <td>0</td>\n",
    "        <td>4</td>\n",
    "        <td>$\\cdots$</td>\n",
    "    </tr>\n",
    "    <tr>\n",
    "        <td style=\"border-right: 1px solid #000;\">$\\cdots$</td>\n",
    "        <td>$\\cdots$</td>\n",
    "        <td style=\"border-right: 1px solid #000; border-left: 1px solid #000;\">$\\cdots$</td>\n",
    "        <td>$\\cdots$</td>\n",
    "        <td>$\\cdots$</td>\n",
    "        <td>$\\cdots$</td>\n",
    "    </tr>\n",
    "</table>\n",
    "\n",
    "<table>\n",
    "    <tr style=\"background-color: white;\">\n",
    "        <td style=\"border-right: 1px solid #000;\"></td>\n",
    "        <td></td>\n",
    "        <td style=\"border-right: 1px solid #000; border-left: 1px solid #000;\">$y^{(1)}$</td>\n",
    "        <td colspan=3 style=\"text-align:center;\">$X^{(1)}$</td>\n",
    "    </tr>\n",
    "    <tr style=\"border-bottom: 1px solid #000;\">\n",
    "        <td style=\"border-right: 1px solid #000;\"></td>\n",
    "        <td>Film/uporabnik</td>\n",
    "        <td style=\"border-right: 1px solid #000; border-left: 1px solid #000;\">$u_1$</td>\n",
    "        <td>$u_0$</td>\n",
    "        <td>$u_2$</td>\n",
    "        <td>$\\cdots$</td>\n",
    "    </tr>\n",
    "    <tr>\n",
    "        <td style=\"border-right: 1px solid #000;\">${f_1}$</td>\n",
    "        <td>Twelve Monkeys (a.k.a. 12 Monkeys) (1995)</td>\n",
    "        <td style=\"border-right: 1px solid #000; border-left: 1px solid #000;\">0</td>\n",
    "        <td>0</td>\n",
    "        <td>2.5</td>\n",
    "        <td>$\\cdots$</td>\n",
    "    </tr>\n",
    "    <tr>\n",
    "        <td style=\"border-right: 1px solid #000;\">${f_2}$</td>\n",
    "        <td>Dances with  Wolves (1990) </td>\n",
    "        <td style=\"border-right: 1px solid #000; border-left: 1px solid #000;\">0</td>\n",
    "        <td>4</td>\n",
    "        <td>0</td>\n",
    "        <td>$\\cdots$</td>\n",
    "    </tr>\n",
    "    <tr>\n",
    "        <td style=\"border-right: 1px solid #000;\">${f_3}$</td>\n",
    "        <td>Apollo 13 (1995)</td>\n",
    "        <td style=\"border-right: 1px solid #000; border-left: 1px solid #000;\">2</td>\n",
    "        <td>0</td>\n",
    "        <td>0</td>\n",
    "        <td>$\\cdots$</td>\n",
    "    </tr>\n",
    "    <tr>\n",
    "        <td style=\"border-right: 1px solid #000;\">${f_4}$</td>\n",
    "        <td>Sixth Sense, The (1999)</td><td style=\"border-right: 1px solid #000; border-left: 1px solid #000;\">0</td>\n",
    "        <td>3</td>\n",
    "        <td>4</td>\n",
    "        <td>$\\cdots$</td>\n",
    "    </tr>\n",
    "    <tr>\n",
    "        <td style=\"border-right: 1px solid #000;\">$\\cdots$</td>\n",
    "        <td>$\\cdots$</td>\n",
    "        <td style=\"border-right: 1px solid #000; border-left: 1px solid #000;\">$\\cdots$</td>\n",
    "        <td>$\\cdots$</td>\n",
    "        <td>$\\cdots$</td>\n",
    "        <td>$\\cdots$</td>\n",
    "    </tr>\n",
    "</table>"
   ]
  },
  {
   "cell_type": "markdown",
   "metadata": {
    "lang": "sl"
   },
   "source": [
    "Razdelitev podatkov za model uporabnika $u_0$ (zgorja matrika) in uporabnika $u_1$ (spodaj matrika)."
   ]
  },
  {
   "cell_type": "code",
   "execution_count": 3,
   "metadata": {},
   "outputs": [],
   "source": [
    "# 𝑚 filmov z vsaj 100 ogledi.\n",
    "moviesMoreThan100 = []\n",
    "\n",
    "for i in movies:\n",
    "    sm = (len(ratings[ratings[:,1] == int(i[0]), 1]))\n",
    "    if(sm >= 100):\n",
    "        moviesMoreThan100.append({'name': i[1], 'id': int(i[0]),'numOfRatings': sm})"
   ]
  },
  {
   "cell_type": "code",
   "execution_count": 4,
   "metadata": {},
   "outputs": [],
   "source": [
    "# 𝑛 uporabnikov, ki si je ogledalo vsaj 100 filmov.\n",
    "usersWithMoreThan100Movies = []\n",
    "userDict = {}\n",
    "\n",
    "for i in ratings:\n",
    "    if(not int(i[0]) in userDict):\n",
    "        userDict[int(i[0])] = []\n",
    "    userDict[int(i[0])].append([int(i[1]), float(i[2])])\n",
    "    \n",
    "for i in userDict:\n",
    "    if(len(userDict[i]) >= 100):\n",
    "        usersWithMoreThan100Movies.append({'user': i, 'movies': userDict[i]})\n",
    "        \n",
    "n = len(usersWithMoreThan100Movies)"
   ]
  },
  {
   "cell_type": "code",
   "execution_count": 5,
   "metadata": {},
   "outputs": [
    {
     "data": {
      "text/plain": [
       "(151, 263)"
      ]
     },
     "execution_count": 5,
     "metadata": {},
     "output_type": "execute_result"
    }
   ],
   "source": [
    "# matrika 𝑋 velikosti 𝑚×𝑛 kjer vrstice predstavljajo filme, stolpci pa uporabnike. Neznane vrednosti zamenjaj z  0\n",
    "rowArray = []\n",
    "\n",
    "for i in moviesMoreThan100:\n",
    "    colArr = []\n",
    "    for j in usersWithMoreThan100Movies:\n",
    "        didInsert = False\n",
    "        for k in j['movies']:\n",
    "            if(i['id'] == k[0]):\n",
    "                colArr.append(k[1])\n",
    "                didInsert = True\n",
    "        if(not didInsert):\n",
    "            colArr.append(0)\n",
    "    rowArray.append(colArr)\n",
    "    \n",
    "matrix = np.array(rowArray)\n",
    "m = len(rowArray)\n",
    "matrix.shape"
   ]
  },
  {
   "cell_type": "markdown",
   "metadata": {
    "lang": "sl"
   },
   "source": [
    "### Vprašanja"
   ]
  },
  {
   "cell_type": "markdown",
   "metadata": {
    "lang": "sl"
   },
   "source": [
    "#### 1. Regresija (100%) \n",
    "Za vsakega uporabnika postavite regresijski model. Uporabite eno ali več metod za učenje regresijskih modelov (linearna regresija, Ridge, Lasso, itd.).\n",
    "\n",
    "Za vsakega od $n$ uporabnikov izberite ustrezni stolpec v matriki podatkov. Za uporabnika $i$ imamo torej:\n",
    "\n",
    "* Vektor odziva $y^{(i)}$,\n",
    "* Matriko podatkov $X^{(i)}$, ki vsebuje vse stolpce *razen* $i$.\n",
    "    \n",
    "Za lažjo predstavo si oglej zgornji tabeli. Nekajkrat (npr., trikrat) ponovite postopek preverjanja s pomočjo učne in testne množice:\n",
    "\n",
    "\n",
    "* Množico filmov, ki si jih je uporabnik ogledal, *naključno* razdelite v razmerju 75% (učna množica) in 25% (testna množica).\n",
    "* Naučite regresijski model na učni množici (izberite ustrezne vrstice v $X$ in $y$).\n",
    "* Ovrednotite model na testni množici (ponovno izberite ustrezne vrstice v $X$ in $y$).\n",
    "\n",
    "Oceno vrednotenja nato delite s številom poizkusov, da dobite končno oceno.\n",
    "\n",
    "Poročajte o uspešnosti vašega modela. Pri tem se osredotočite na naslednja vprašanja:\n",
    "* Utemeljite ustrezno mero vrednotenja. Ali model dobro napoveduje ocene?\n",
    "* Z izbrano mero ocenite modele za vseh $n$ uporabnikov.\n",
    "\n",
    "Kodo za odgovore lahko razdelite v več celic."
   ]
  },
  {
   "cell_type": "code",
   "execution_count": 6,
   "metadata": {},
   "outputs": [
    {
     "name": "stdout",
     "output_type": "stream",
     "text": [
      "1 .\n",
      "Linear Regression:  0.6648726773684673\n",
      "Ridge:             0.6645956106960148\n",
      "Lasso:             0.6916745129175352\n",
      "2 .\n",
      "Linear Regression:  0.659761381110596\n",
      "Ridge:             0.6594320405050126\n",
      "Lasso:             0.6767451284643861\n",
      "3 .\n",
      "Linear Regression:  0.6513241045088349\n",
      "Ridge:             0.6512250712172799\n",
      "Lasso:             0.6775864194603205\n"
     ]
    },
    {
     "name": "stderr",
     "output_type": "stream",
     "text": [
      "C:\\Users\\pritr\\anaconda3\\lib\\site-packages\\sklearn\\linear_model\\_coordinate_descent.py:530: ConvergenceWarning: Objective did not converge. You might want to increase the number of iterations. Duality gap: 0.0, tolerance: 0.0\n",
      "  model = cd_fast.enet_coordinate_descent(\n"
     ]
    }
   ],
   "source": [
    "for kaj in range(3):\n",
    "    linear = []\n",
    "    ridg = []\n",
    "    lasso = []\n",
    "    \n",
    "    for user in range(n):\n",
    "        y = matrix[:, user]\n",
    "        X = matrix[:, [x for x in range(n) if x != user]]\n",
    "\n",
    "        moviesWatched = [k for k in range(len(y)) if y[k] > 0]\n",
    "        random.shuffle(moviesWatched)\n",
    "\n",
    "        learn = moviesWatched[:int(len(moviesWatched) * 0.75)]\n",
    "\n",
    "        learnX = X[learn,:]\n",
    "        learny = y[learn]\n",
    "\n",
    "        test = [x for x in moviesWatched if x not in learn]\n",
    "        testX = X[test,:]\n",
    "        testy = y[test]\n",
    "        \n",
    "        #Linear regresion\n",
    "        model = LinearRegression()\n",
    "        model.fit(learnX,learny)\n",
    "\n",
    "        hx = model.predict(testX)\n",
    "        linear.append(mean_absolute_error(hx, testy))\n",
    "\n",
    "        #Ridge\n",
    "        model = Ridge(alpha=0.1)\n",
    "        model.fit(learnX,learny)\n",
    "\n",
    "        hx = model.predict(testX)\n",
    "        ridg.append(mean_absolute_error(hx, testy))\n",
    "\n",
    "        #Lasso\n",
    "        model = Lasso(alpha=0.1)\n",
    "        model.fit(learnX,learny)\n",
    "\n",
    "        hx = model.predict(testX)\n",
    "        lasso.append(mean_absolute_error(hx, testy))\n",
    "        \n",
    "    print(kaj+1, \".\")\n",
    "    print(\"Linear Regression: \", np.mean(linear))\n",
    "    print(\"Ridge:            \", np.mean(ridg))\n",
    "    print(\"Lasso:            \", np.mean(lasso))\n"
   ]
  },
  {
   "cell_type": "markdown",
   "metadata": {},
   "source": [
    "#### Komentar:\n",
    "\n",
    "Za mero vrednotenja sem izbral Mean Absolute Error (angl. MAE). To sem izbral, ker se mi je zdela najpomembnejšaza naše ocenjevanje (nočemo preveč kaznovati osamelce). Model nam vrača MAE pri okoli 0.6 - 0.7 kar se mi zdi relativno dobro.\n",
    "\n",
    "Pri uporabi različnih metod lahko opazimo, da dobimo najmanjši MAE pri Ridge. Najvišjega pa dobimo pri Lasso. Najuspešnejši model bi biu Ridge, čeprav bi bili drugi tudi dobri."
   ]
  },
  {
   "cell_type": "markdown",
   "metadata": {
    "lang": "sl"
   },
   "source": [
    "#### Bonus vprašanje (15%)\n",
    "Ustvarite novega uporabnika, ki predstavlja vaše ocene\n",
    "filmov. Ocenite nekaj filmov po lastnem okusu in preverite, kako modeli ocenijo neizbrane filme.\n",
    "Ali se vam zdijo napovedi primerne?\n",
    "\n",
    "Kodo za odgovore lahko razdelite v več celic."
   ]
  }
 ],
 "metadata": {
  "kernelspec": {
   "display_name": "Python 3 (ipykernel)",
   "language": "python",
   "name": "python3"
  },
  "language_info": {
   "codemirror_mode": {
    "name": "ipython",
    "version": 3
   },
   "file_extension": ".py",
   "mimetype": "text/x-python",
   "name": "python",
   "nbconvert_exporter": "python",
   "pygments_lexer": "ipython3",
   "version": "3.9.7"
  },
  "latex_envs": {
   "LaTeX_envs_menu_present": true,
   "autoclose": false,
   "autocomplete": true,
   "bibliofile": "biblio.bib",
   "cite_by": "apalike",
   "current_citInitial": 1,
   "eqLabelWithNumbers": true,
   "eqNumInitial": 1,
   "hotkeys": {
    "equation": "Ctrl-E",
    "itemize": "Ctrl-I"
   },
   "labels_anchors": false,
   "latex_user_defs": false,
   "report_style_numbering": false,
   "user_envs_cfg": false
  },
  "nbTranslate": {
   "displayLangs": [
    "sl"
   ],
   "hotkey": "alt-t",
   "langInMainMenu": true,
   "sourceLang": "sl",
   "targetLang": "en",
   "useGoogleTranslate": true
  }
 },
 "nbformat": 4,
 "nbformat_minor": 2
}
